{
 "cells": [
  {
   "cell_type": "code",
   "execution_count": 65,
   "id": "bccdb301-91c9-4142-ad7a-6feb81ae33be",
   "metadata": {},
   "outputs": [],
   "source": [
    "import requests\n",
    "from bs4 import BeautifulSoup\n",
    "import pandas as pd\n",
    "import datetime\n",
    "\n",
    "df = pd.DataFrame(columns=['Name', 'Price', 'Rating', 'Discount'])\n"
   ]
  },
  {
   "cell_type": "code",
   "execution_count": 66,
   "id": "13aeda01-6fbd-4844-bf33-3e1d51ff4827",
   "metadata": {},
   "outputs": [],
   "source": [
    "for page in range(1,49):\n",
    "    url = \"https://www.jumia.co.ke/android-phones/\" + \"?page=\" +str(page) + \"#catalog-listing\"\n",
    "    linkss = requests.get(url)\n",
    "    linki=BeautifulSoup(linkss.content, 'html.parser')\n",
    "    productss = soup.find_all('div' , class_ = 'info')\n",
    "    for product in productss:\n",
    "          Name = product.find('h3' , class_=\"name\").text.replace('\\n', '')\n",
    "          Price = product.find('div' , class_= \"prc\").text.replace('\\n', '')\n",
    "          try:\n",
    "            Rating = product.find('div', class_='stars _s').text.replace('\\n', '')\n",
    "          except:\n",
    "            Rating = 'None'\n",
    "          try:\n",
    "            discount = product.find('div', class_=\"bdg _dsct _sm\").text.replace('\\n', '')\n",
    "          except:\n",
    "            discount = 'Not'\n",
    "\n",
    "          info = [ Name, Price,Rating,discount]\n",
    "          df.loc[len(df)] = info\n",
    "          \n"
   ]
  },
  {
   "cell_type": "code",
   "execution_count": 67,
   "id": "4698d6a1-8395-4f75-9c06-314b0a1cc91d",
   "metadata": {},
   "outputs": [
    {
     "data": {
      "text/plain": [
       "<bound method NDFrame.describe of                                                    Name       Price  \\\n",
       "0     Samsung Galaxy A14 4G, 6.6\", 64GB + 4GB RAM (D...  KSh 21,349   \n",
       "1     Samsung Galaxy A03 Core, 6.5\" 32GB + 2G, 5000m...  KSh 12,399   \n",
       "2     Samsung Galaxy A04e 32GB ROM 3GB RAM 6.5'' 500...  KSh 15,999   \n",
       "3     Tecno Camon 20, 6.67\", 256GB + 8GB+8GB Extende...  KSh 27,199   \n",
       "4     Samsung Galaxy A04e, 6.5\", 32GB + 3GB (Dual SI...  KSh 15,999   \n",
       "...                                                 ...         ...   \n",
       "2395                                                                  \n",
       "2396                                                                  \n",
       "2397                                                                  \n",
       "2398                                                                  \n",
       "2399                                                                  \n",
       "\n",
       "            Rating Discount  \n",
       "0       5 out of 5      29%  \n",
       "1       5 out of 5      23%  \n",
       "2     4.6 out of 5      20%  \n",
       "3             None      22%  \n",
       "4     4.5 out of 5      20%  \n",
       "...            ...      ...  \n",
       "2395          None      Not  \n",
       "2396          None      Not  \n",
       "2397          None      Not  \n",
       "2398          None      Not  \n",
       "2399          None      Not  \n",
       "\n",
       "[2400 rows x 4 columns]>"
      ]
     },
     "execution_count": 67,
     "metadata": {},
     "output_type": "execute_result"
    }
   ],
   "source": [
    "df.describe"
   ]
  },
  {
   "cell_type": "code",
   "execution_count": 68,
   "id": "ad7e7fd4-9a17-4b40-b098-9406199c902a",
   "metadata": {},
   "outputs": [],
   "source": [
    "df.to_csv('productz.csv', index=False, encoding='utf-8')"
   ]
  },
  {
   "cell_type": "code",
   "execution_count": null,
   "id": "70e10162-cc19-4886-85b7-769030191d83",
   "metadata": {},
   "outputs": [],
   "source": []
  },
  {
   "cell_type": "code",
   "execution_count": null,
   "id": "84006ab0-5ef5-4c8e-bf73-639f4dd64e22",
   "metadata": {},
   "outputs": [],
   "source": []
  }
 ],
 "metadata": {
  "kernelspec": {
   "display_name": "Python 3 (ipykernel)",
   "language": "python",
   "name": "python3"
  },
  "language_info": {
   "codemirror_mode": {
    "name": "ipython",
    "version": 3
   },
   "file_extension": ".py",
   "mimetype": "text/x-python",
   "name": "python",
   "nbconvert_exporter": "python",
   "pygments_lexer": "ipython3",
   "version": "3.10.9"
  }
 },
 "nbformat": 4,
 "nbformat_minor": 5
}
